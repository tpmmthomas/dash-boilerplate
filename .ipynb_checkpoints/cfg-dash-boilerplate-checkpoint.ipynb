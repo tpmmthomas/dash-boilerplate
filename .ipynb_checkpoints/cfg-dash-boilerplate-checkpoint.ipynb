{
 "cells": [
  {
   "cell_type": "markdown",
   "metadata": {},
   "source": [
    "## Contents:\n",
    "* [1. Get Datasets](#get-datasets)\n",
    "* [2. Query Dataframe](#query-dataframe)\n",
    "* [3. Creating Line Graphs](#create-line-graph)\n",
    "* [4. Creating Tree Maps](#create-tree-map)\n",
    "* [5. Creating the HTML Components](#create-html)\n",
    "* [6. Adding Widgets](#add-widgets)\n",
    "* [7. Adding Callbacks](#add-callbacks)\n",
    "* [8. Run Dash App](#run-dash-app)\n"
   ]
  },
  {
   "cell_type": "markdown",
   "metadata": {},
   "source": [
    "### Importing the tools we need"
   ]
  },
  {
   "cell_type": "code",
   "execution_count": 1,
   "metadata": {},
   "outputs": [],
   "source": [
    "import dash\n",
    "import dash_table\n",
    "import dash_core_components as dcc\n",
    "import dash_bootstrap_components as dbc\n",
    "import dash_html_components as html\n",
    "import plotly.express as px\n",
    "import pandas as pd\n",
    "from jupyter_dash import JupyterDash\n",
    "from dash.dependencies import Input, Output\n",
    "import numpy as np"
   ]
  },
  {
   "cell_type": "markdown",
   "metadata": {},
   "source": [
    "### 1. Get Datasets <a name=\"get-datasets\"> </a>"
   ]
  },
  {
   "cell_type": "code",
   "execution_count": 4,
   "metadata": {},
   "outputs": [],
   "source": [
    "df = px.data.gapminder()\n",
    "#### Step 1: Add column 'world' to the dataframe\n",
    "###\n",
    "\n",
    "df.head()"
   ]
  },
  {
   "cell_type": "markdown",
   "metadata": {},
   "source": [
    "### 2. Query Dataframe <a name='query-dataframe'> </a> "
   ]
  },
  {
   "cell_type": "code",
   "execution_count": 1,
   "metadata": {},
   "outputs": [],
   "source": [
    "### Step 2: Query dataframe for Canada\n",
    "# df_canada = \n",
    "# df_canada.head()"
   ]
  },
  {
   "cell_type": "markdown",
   "metadata": {},
   "source": [
    "### 3. Creating Line Graphs <a name=\"create-line-graph\"></a>\n",
    "- Suitable for data changes over time (time-series data)\n",
    "- Presents a good impression of trends and changes"
   ]
  },
  {
   "cell_type": "code",
   "execution_count": 2,
   "metadata": {},
   "outputs": [
    {
     "ename": "SyntaxError",
     "evalue": "invalid syntax (<ipython-input-2-41f5c5469a9f>, line 3)",
     "output_type": "error",
     "traceback": [
      "\u001b[1;36m  File \u001b[1;32m\"<ipython-input-2-41f5c5469a9f>\"\u001b[1;36m, line \u001b[1;32m3\u001b[0m\n\u001b[1;33m    line_graph = px.line(df, x=  , y= , color=)\u001b[0m\n\u001b[1;37m                                 ^\u001b[0m\n\u001b[1;31mSyntaxError\u001b[0m\u001b[1;31m:\u001b[0m invalid syntax\n"
     ]
    }
   ],
   "source": [
    "def create_line_graph(df, metric):\n",
    "    ### Step 3: Fill in line graph parameters\n",
    "    line_graph = px.line(df, x=  , y= , color=)  \n",
    "    return line_graph"
   ]
  },
  {
   "cell_type": "code",
   "execution_count": 6,
   "metadata": {},
   "outputs": [],
   "source": [
    "create_line_graph(df, 'lifeExp')"
   ]
  },
  {
   "cell_type": "markdown",
   "metadata": {},
   "source": [
    "## 4. Creating Treemaps <a name=\"create-tree-map\"> </a>\n",
    "- To display categorical, hierarchical data using nested rectangles\n",
    "- To visualize a part-to-whole relationship amongst different categories\n",
    "\n",
    "![alt text](images/treemap.png \"Title\")"
   ]
  },
  {
   "cell_type": "code",
   "execution_count": 7,
   "metadata": {},
   "outputs": [],
   "source": [
    "def create_tree_map(df, metric):\n",
    "    #### Step 4: Fill in path (hierarchy) parameter in treemap\n",
    "    hierarchy = []\n",
    "    tree_map = px.treemap(df, path=hierarchy, color=metric, values='pop', color_continuous_scale='RdBu')\n",
    "    return tree_map"
   ]
  },
  {
   "cell_type": "code",
   "execution_count": 8,
   "metadata": {},
   "outputs": [],
   "source": [
    "create_tree_map(df[df['year'] == 2007], 'lifeExp')"
   ]
  },
  {
   "cell_type": "code",
   "execution_count": 8,
   "metadata": {},
   "outputs": [],
   "source": [
    "title = {\n",
    "    'font-family': 'Poppins',\n",
    "    'font-weight': 'bold',\n",
    "    'font-size': '4em'\n",
    "}\n",
    "card = {\n",
    "    'border-radius': '1em',\n",
    "    'border': 0,\n",
    "    'box-shadow': '0 4px 8px 0 rgba(0, 0, 0, 0.2), 0 6px 10px 0 rgba(0, 0, 0, 0.19)',\n",
    "    'color': 'black',\n",
    "    'font-family': 'Open Sans',\n",
    "    \"padding\": \"5px\"\n",
    "}\n",
    "row = {\n",
    "    'margin-bottom':'2em'\n",
    "}\n",
    "cell = {\n",
    "    \"padding\": \"5px\",\n",
    "    \"textAlign\": \"center\",\n",
    "    'color': 'black'\n",
    "}\n",
    "header = {\n",
    "    \"backgroundColor\": \"rgb(230, 230, 230)\",\n",
    "    \"fontWeight\": \"bold\",\n",
    "}\n",
    "dashboard = {\n",
    "    'background': '#232946', \n",
    "    'padding': '2em 8em 2em 8em', \n",
    "    'color': 'white'\n",
    "}"
   ]
  },
  {
   "cell_type": "markdown",
   "metadata": {},
   "source": [
    "### Dashboard Initialization"
   ]
  },
  {
   "cell_type": "code",
   "execution_count": 9,
   "metadata": {},
   "outputs": [],
   "source": [
    "external_stylesheets = [\"https://fonts.googleapis.com/css2?family=Open+Sans:wght@400;600;700&family=Poppins:wght@400;500;700&display=swap\", dbc.themes.BOOTSTRAP]\n",
    "app = JupyterDash(__name__, external_stylesheets=external_stylesheets)\n"
   ]
  },
  {
   "cell_type": "markdown",
   "metadata": {},
   "source": [
    "### 5. Creating the HTML components <a name=\"create-html\"> </a>"
   ]
  },
  {
   "cell_type": "code",
   "execution_count": 2,
   "metadata": {},
   "outputs": [],
   "source": [
    "### Step 5: Add the title and empty graphs\n",
    "title_component = html.Div(html.H1(\"📈 Dashboard\", style=title))\n",
    "line_graph = dcc.Graph(id='line-graph')\n",
    "tree_map = dcc.Graph(id='tree')\n",
    "\n",
    "line_card = dbc.Card(line_graph, style=card)\n",
    "tree_card = dbc.Card(tree_map, style=card)"
   ]
  },
  {
   "cell_type": "markdown",
   "metadata": {},
   "source": [
    "* [    Try this layout!](#layout)"
   ]
  },
  {
   "cell_type": "markdown",
   "metadata": {},
   "source": [
    "###  6. Adding the dashboard widgets <a name=\"add-widgets\"></a>\n",
    "* [6a. Dropdown widget (for countries)](#dropdown-widget)\n",
    "* [6b. Radio widget (for metric)](#radio-widget)\n",
    "* [6c. Slider widget (for year range)](#slider-widget)"
   ]
  },
  {
   "cell_type": "code",
   "execution_count": 23,
   "metadata": {},
   "outputs": [],
   "source": [
    "#### Paste widgets here ###"
   ]
  },
  {
   "cell_type": "code",
   "execution_count": 16,
   "metadata": {},
   "outputs": [],
   "source": [
    "#### Step 7: Create widget Cards\n",
    "widget_card = dbc.Card([\n",
    "                    html.Div(metricRadio), \n",
    "                    html.Div(yearSlider),\n",
    "                    html.Div(countryDropdown)\n",
    "                    ], style=card)"
   ]
  },
  {
   "cell_type": "markdown",
   "metadata": {},
   "source": [
    "* [    Try this layout!](#layout)"
   ]
  },
  {
   "cell_type": "code",
   "execution_count": 5,
   "metadata": {},
   "outputs": [],
   "source": [
    "# ##### Step 8: Filter the dataframe according to widget values\n",
    "def get_filtered_df(df, year_range, countries):\n",
    "    filtered_df = \n",
    "    \n",
    "    return filtered_df\n",
    "\n",
    "get_filtered_df(df, [2002, 2007], ['India', 'Singapore'])"
   ]
  },
  {
   "cell_type": "markdown",
   "metadata": {},
   "source": [
    "#### Create dashboard layout <a name='layout'> </a>"
   ]
  },
  {
   "cell_type": "code",
   "execution_count": 18,
   "metadata": {},
   "outputs": [],
   "source": [
    "layout = dbc.Container(\n",
    "    [\n",
    "        dbc.Row(\n",
    "            dbc.Col(title_component),\n",
    "            justify=\"center\",\n",
    "            align=\"center\",\n",
    "            className=\"text-center\",\n",
    "            style=row\n",
    "        ),\n",
    "        \n",
    "#### Uncomment after step 7\n",
    "#         dbc.Row(widget_card, style=row),\n",
    "        dbc.Row(line_card, style=row),\n",
    "        dbc.Row(tree_card,  style=row),\n",
    "        \n",
    "    ],\n",
    "    style=dashboard,\n",
    "    fluid = True,\n",
    ")\n",
    "app.layout = layout"
   ]
  },
  {
   "cell_type": "markdown",
   "metadata": {},
   "source": [
    "* [    Run the app!](#run-dash-app)"
   ]
  },
  {
   "cell_type": "markdown",
   "metadata": {},
   "source": [
    "### 7. Adding callbacks <a name=\"add-callbacks\"> </a>"
   ]
  },
  {
   "cell_type": "code",
   "execution_count": 3,
   "metadata": {},
   "outputs": [
    {
     "ename": "NameError",
     "evalue": "name 'app' is not defined",
     "output_type": "error",
     "traceback": [
      "\u001b[1;31m---------------------------------------------------------------------------\u001b[0m",
      "\u001b[1;31mNameError\u001b[0m                                 Traceback (most recent call last)",
      "\u001b[1;32m<ipython-input-3-0571eb1830bf>\u001b[0m in \u001b[0;36m<module>\u001b[1;34m\u001b[0m\n\u001b[1;32m----> 1\u001b[1;33m @app.callback(\n\u001b[0m\u001b[0;32m      2\u001b[0m     \u001b[0mOutput\u001b[0m\u001b[1;33m(\u001b[0m\u001b[1;34m'line-graph'\u001b[0m\u001b[1;33m,\u001b[0m \u001b[1;34m'figure'\u001b[0m\u001b[1;33m)\u001b[0m\u001b[1;33m,\u001b[0m\u001b[1;33m\u001b[0m\u001b[1;33m\u001b[0m\u001b[0m\n\u001b[0;32m      3\u001b[0m     \u001b[0mOutput\u001b[0m\u001b[1;33m(\u001b[0m\u001b[1;34m'tree'\u001b[0m\u001b[1;33m,\u001b[0m \u001b[1;34m'figure'\u001b[0m\u001b[1;33m)\u001b[0m\u001b[1;33m,\u001b[0m\u001b[1;33m\u001b[0m\u001b[1;33m\u001b[0m\u001b[0m\n\u001b[0;32m      4\u001b[0m     [\n\u001b[0;32m      5\u001b[0m \u001b[1;33m\u001b[0m\u001b[0m\n",
      "\u001b[1;31mNameError\u001b[0m: name 'app' is not defined"
     ]
    }
   ],
   "source": [
    "@app.callback(\n",
    "    Output('line-graph', 'figure'),\n",
    "    Output('tree', 'figure'),\n",
    "    [\n",
    "        \n",
    "        Input('year-range-slider', 'value'),\n",
    "        Input('country-dropdown', 'value'),\n",
    "        Input('metric-radio', 'value')\n",
    "    ])\n",
    "def update_figure(year_range, countries, metric):\n",
    "\n",
    "    if countries is None : countries = ['Singapore']\n",
    "\n",
    "    filtered_df = get_filtered_df(df, year_range, countries)\n",
    "    \n",
    "    line_fig = create_line_graph(filtered_df, metric)\n",
    "    tree_fig = create_tree_map(filtered_df, metric)\n",
    "\n",
    "\n",
    "    line_fig.update_layout()\n",
    "    tree_fig.update_layout()\n",
    "    \n",
    "    return line_fig, tree_fig"
   ]
  },
  {
   "cell_type": "markdown",
   "metadata": {},
   "source": [
    "### 9. Run Dash App <a name=\"run-dash-app\"> </a>"
   ]
  },
  {
   "cell_type": "code",
   "execution_count": 4,
   "metadata": {},
   "outputs": [
    {
     "ename": "NameError",
     "evalue": "name 'app' is not defined",
     "output_type": "error",
     "traceback": [
      "\u001b[1;31m---------------------------------------------------------------------------\u001b[0m",
      "\u001b[1;31mNameError\u001b[0m                                 Traceback (most recent call last)",
      "\u001b[1;32m<ipython-input-4-7ab7441b8a01>\u001b[0m in \u001b[0;36m<module>\u001b[1;34m\u001b[0m\n\u001b[1;32m----> 1\u001b[1;33m \u001b[0mapp\u001b[0m\u001b[1;33m.\u001b[0m\u001b[0mrun_server\u001b[0m\u001b[1;33m(\u001b[0m\u001b[0mmode\u001b[0m\u001b[1;33m=\u001b[0m\u001b[1;34m'inline'\u001b[0m\u001b[1;33m,\u001b[0m \u001b[0mport\u001b[0m\u001b[1;33m=\u001b[0m\u001b[1;36m8056\u001b[0m\u001b[1;33m)\u001b[0m\u001b[1;33m\u001b[0m\u001b[1;33m\u001b[0m\u001b[0m\n\u001b[0m",
      "\u001b[1;31mNameError\u001b[0m: name 'app' is not defined"
     ]
    }
   ],
   "source": [
    "app.run_server(mode='inline', port=8056)"
   ]
  },
  {
   "cell_type": "markdown",
   "metadata": {},
   "source": [
    "* [^^ back to creating html components](#create-html)"
   ]
  },
  {
   "cell_type": "markdown",
   "metadata": {},
   "source": [
    "## Code Snippets"
   ]
  },
  {
   "cell_type": "markdown",
   "metadata": {},
   "source": [
    "### Step 6a: Dropdown Widget <a name=\"dropdown-widget\"> </a>\n",
    "* [^^ back to add widgets](#add-widgets)"
   ]
  },
  {
   "cell_type": "code",
   "execution_count": 27,
   "metadata": {},
   "outputs": [],
   "source": [
    "######## widget 6a ###############\n",
    "countryDropdown = dcc.Dropdown(\n",
    "    id='country-dropdown', \n",
    "    options=[{'label': c, 'value': c} for c in df['country'].unique()], \n",
    "    multi=True, \n",
    "    value=['Singapore']\n",
    ")"
   ]
  },
  {
   "cell_type": "markdown",
   "metadata": {},
   "source": [
    "### Step 6b: Radio Widget <a name=\"radio-widget\"> </a>\n",
    "* [^^ back to add widgets](#add-widgets)"
   ]
  },
  {
   "cell_type": "code",
   "execution_count": 25,
   "metadata": {},
   "outputs": [],
   "source": [
    "######## widget 6b ###############\n",
    "metricRadio = dcc.RadioItems(\n",
    "    id='metric-radio',\n",
    "    labelStyle = {'marginRight': '.5em'},\n",
    "    inputStyle= {'margin': '.5em'},\n",
    "    options= [\n",
    "        {'label': 'GDP Per Cap', 'value': 'gdpPercap'},\n",
    "        {'label': 'Life Expectancy', 'value': 'lifeExp'},\n",
    "        {'label': 'Population', 'value': 'pop'}\n",
    "    ],\n",
    "    value='pop',\n",
    ") "
   ]
  },
  {
   "cell_type": "markdown",
   "metadata": {},
   "source": [
    "### Step 6c: Slider Widget <a name=\"slider-widget\"> </a>\n",
    "* [^^ back to add widgets](#add-widgets)"
   ]
  },
  {
   "cell_type": "code",
   "execution_count": 26,
   "metadata": {},
   "outputs": [],
   "source": [
    "######## widget 6c ###############\n",
    "yearSlider = dcc.RangeSlider(\n",
    "    id='year-range-slider',\n",
    "    min=df['year'].min(),\n",
    "    max=df['year'].max(),\n",
    "    marks={int(y): str(y) for y in df['year'].unique()},\n",
    "    step=None,\n",
    "    pushable=2,\n",
    "    value=[df['year'].quantile(.25, 'nearest'), df['year'].quantile(.75, 'nearest')]\n",
    ")"
   ]
  }
 ],
 "metadata": {
  "kernelspec": {
   "display_name": "cfg-dash",
   "language": "python",
   "name": "cfg-dash"
  },
  "language_info": {
   "codemirror_mode": {
    "name": "ipython",
    "version": 3
   },
   "file_extension": ".py",
   "mimetype": "text/x-python",
   "name": "python",
   "nbconvert_exporter": "python",
   "pygments_lexer": "ipython3",
   "version": "3.7.3"
  }
 },
 "nbformat": 4,
 "nbformat_minor": 4
}
